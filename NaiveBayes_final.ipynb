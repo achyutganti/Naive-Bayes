{
 "cells": [
  {
   "cell_type": "code",
   "execution_count": 1,
   "metadata": {
    "collapsed": true
   },
   "outputs": [],
   "source": [
    "# import the libraries\n",
    "import numpy as np\n",
    "import pandas as pd\n",
    "from collections import Counter\n",
    "import os\n",
    "import glob\n",
    "from nltk.stem import PorterStemmer\n",
    "from nltk.corpus import stopwords"
   ]
  },
  {
   "cell_type": "code",
   "execution_count": 2,
   "metadata": {
    "collapsed": true
   },
   "outputs": [],
   "source": [
    "# String used to pre-process the dataset\n",
    "sp = '!@#$%^&*(){}[]+=|:;,./?><\\'\\\"-1234567890'\n",
    "stop_words = set(stopwords.words(\"english\"))\n",
    "ps = PorterStemmer()"
   ]
  },
  {
   "cell_type": "code",
   "execution_count": 3,
   "metadata": {
    "collapsed": true
   },
   "outputs": [],
   "source": [
    "# This function calculates the feature vector, pre-processing like stemming, \n",
    "# Also removes stop words and punctuations.\n",
    "def feature_vector(path_func):\n",
    "    len_func = 0\n",
    "    func_vec_allfile = dict()\n",
    "    for filename in glob.glob(os.path.join(path_func,'*.txt')):\n",
    "        len_func+=1\n",
    "        f = open(filename, 'r', encoding = 'utf8').read()\n",
    "        for i in f:\n",
    "            if i in sp:\n",
    "                f = f.replace(i,'')\n",
    "        f=f.lower()\n",
    "        f=f.split()\n",
    "        for words in f:\n",
    "            if words not in stop_words:\n",
    "                words_stem = ps.stem(words)\n",
    "                if words_stem in func_vec_allfile:\n",
    "                    func_vec_allfile[words_stem]+=1\n",
    "                else:\n",
    "                    func_vec_allfile[words_stem]=1\n",
    "    return(func_vec_allfile,len_func)"
   ]
  },
  {
   "cell_type": "code",
   "execution_count": 5,
   "metadata": {
    "collapsed": true
   },
   "outputs": [],
   "source": [
    "# calculating the feature vector for entire document\n",
    "f_t_allfile= dict()\n",
    "path_all = 'C:/imd_data/aclImdb/train/allfiles'\n",
    "all_file = feature_vector(path_all)\n",
    "f_t_allfile = all_file[0]\n",
    "len_allfile = all_file[1]"
   ]
  },
  {
   "cell_type": "code",
   "execution_count": 8,
   "metadata": {
    "collapsed": true
   },
   "outputs": [],
   "source": [
    "# calculating the feature vector for positive class\n",
    "pos_vec_allfile = dict()\n",
    "path_pos = 'C:/imd_data/aclImdb/train/pos'\n",
    "pos_file = feature_vector(path_pos)\n",
    "pos_vec_allfile = pos_file[0]\n",
    "len_pos = pos_file[1]"
   ]
  },
  {
   "cell_type": "code",
   "execution_count": 9,
   "metadata": {
    "collapsed": true
   },
   "outputs": [],
   "source": [
    "# calculating the feature vector for negative class\n",
    "neg_vec_allfile = dict()\n",
    "path_neg = 'C:/imd_data/aclImdb/train/neg'\n",
    "neg_file = feature_vector(path_neg)\n",
    "neg_vec_allfile = neg_file[0]\n",
    "len_neg = neg_file[1]"
   ]
  },
  {
   "cell_type": "code",
   "execution_count": 10,
   "metadata": {
    "collapsed": true
   },
   "outputs": [],
   "source": [
    "# calculates length of feature vector, total probabilities for both classes\n",
    "feature_vec_len = len(f_t_allfile)\n",
    "pos_prob = len_pos/len_allfile\n",
    "neg_prob = len_neg/len_allfile"
   ]
  },
  {
   "cell_type": "code",
   "execution_count": 12,
   "metadata": {
    "collapsed": true
   },
   "outputs": [],
   "source": [
    "# function to calculate conditional probability of each word \n",
    "def calculate_probability(class_prob):\n",
    "    prob_both = dict()\n",
    "    for i in f_t_allfile.keys():\n",
    "        if i in class_prob:\n",
    "            prob_both[i] = (class_prob[i]+1)/float(feature_vec_len+ sum(class_prob.values()))\n",
    "        else:\n",
    "            prob_both[i] = (1/float(feature_vec_len+ sum(class_prob.values())))\n",
    "    return (prob_both)"
   ]
  },
  {
   "cell_type": "code",
   "execution_count": 13,
   "metadata": {
    "collapsed": true
   },
   "outputs": [],
   "source": [
    "# calling the function to calculate the probability in each class\n",
    "prob_posit = dict()\n",
    "prob_posit = calculate_probability(pos_vec_allfile)\n",
    "prob_negat = dict()\n",
    "prob_negat = calculate_probability(neg_vec_allfile)"
   ]
  },
  {
   "cell_type": "code",
   "execution_count": 15,
   "metadata": {
    "collapsed": true
   },
   "outputs": [],
   "source": [
    "# function to test the model. we have used log for the calculation. \n",
    "# stemming and removal of punctation and stop words are done here\n",
    "def test_files(path_test_func):\n",
    "    pos_value_list = list()\n",
    "    neg_value_list = list()\n",
    "    for filename in glob.glob(os.path.join(path_test_func,'*.txt')):\n",
    "        pos_value = 0\n",
    "        neg_value=0\n",
    "        f = open(filename, 'r', encoding = 'utf8').read()\n",
    "        for i in f:\n",
    "            if i in sp:   \n",
    "                f = f.replace(i,'')\n",
    "        f=f.lower()\n",
    "\n",
    "        for test_word in f.split():\n",
    "            if test_word not in stop_words:\n",
    "                test_word_stem = ps.stem(test_word)\n",
    "                if test_word_stem in prob_posit:\n",
    "                    a = prob_posit[test_word_stem]\n",
    "                    b = np.log(a)\n",
    "                    pos_value+=b\n",
    "                else:\n",
    "                    pos_value+=-5.333\n",
    "                if test_word_stem in prob_negat:\n",
    "                    c = prob_negat[test_word_stem]\n",
    "                    d = np.log(c)\n",
    "                    neg_value+=d\n",
    "                else:\n",
    "                    neg_value+=-5.333\n",
    "        pos_value_list.append(pos_value)\n",
    "        neg_value_list.append(neg_value)\n",
    "    return(pos_value_list,neg_value_list)"
   ]
  },
  {
   "cell_type": "code",
   "execution_count": 16,
   "metadata": {
    "collapsed": true
   },
   "outputs": [],
   "source": [
    "# calculating the results for positive test class\n",
    "path_test_pos = 'C:/imd_data/aclImdb/test/pos'\n",
    "test_result1 = test_files(path_test_pos)\n",
    "pos_value_list_1 = test_result1[0]\n",
    "neg_value_list_1 = test_result1[1]\n",
    "pos_value_list_1 = [x * pos_prob for x in pos_value_list_1]\n",
    "neg_value_list_1 = [x * neg_prob for x in neg_value_list_1]\n"
   ]
  },
  {
   "cell_type": "code",
   "execution_count": 32,
   "metadata": {
    "collapsed": true
   },
   "outputs": [],
   "source": [
    "# calculating the results for negative test class\n",
    "path_test_neg = 'C:/imd_data/aclImdb/test/neg'\n",
    "test_result2 = test_files(path_test_neg)\n",
    "pos_value_list_2 = test_result2[0]\n",
    "neg_value_list_2 = test_result2[1]\n",
    "pos_value_list_2 = [x * pos_prob for x in pos_value_list_2]\n",
    "neg_value_list_2 = [x * neg_prob for x in neg_value_list_2]"
   ]
  },
  {
   "cell_type": "code",
   "execution_count": 34,
   "metadata": {
    "collapsed": true
   },
   "outputs": [],
   "source": [
    "# comparing the positive and negative list\n",
    "def comparison(list1, list2):\n",
    "    result = list()\n",
    "    for i,j in zip(list1, list2):\n",
    "        if i > j:\n",
    "            result.append(True)\n",
    "        else:\n",
    "            result.append(False)\n",
    "    return result"
   ]
  },
  {
   "cell_type": "code",
   "execution_count": 36,
   "metadata": {
    "collapsed": true
   },
   "outputs": [],
   "source": [
    "# results from comparison for both classes(positive and negative)\n",
    "result_pos = comparison(pos_value_list_1,neg_value_list_1)\n",
    "result_neg = comparison(neg_value_list_2,pos_value_list_2)"
   ]
  },
  {
   "cell_type": "code",
   "execution_count": 38,
   "metadata": {
    "collapsed": true
   },
   "outputs": [],
   "source": [
    "# calculating the sum.\n",
    "result_pos_sum = np.sum(result_pos)\n",
    "result_neg_sum = np.sum(result_neg)"
   ]
  },
  {
   "cell_type": "code",
   "execution_count": 1,
   "metadata": {},
   "outputs": [],
   "source": [
    "# Accuracy of the model. \n",
    "np.sum(result_pos_sum + result_neg_sum)/25000"
   ]
  }
 ],
 "metadata": {
  "kernelspec": {
   "display_name": "Python [conda env:anaconda2]",
   "language": "python",
   "name": "conda-env-anaconda2-py"
  },
  "language_info": {
   "codemirror_mode": {
    "name": "ipython",
    "version": 2
   },
   "file_extension": ".py",
   "mimetype": "text/x-python",
   "name": "python",
   "nbconvert_exporter": "python",
   "pygments_lexer": "ipython2",
   "version": "2.7.14"
  }
 },
 "nbformat": 4,
 "nbformat_minor": 2
}
